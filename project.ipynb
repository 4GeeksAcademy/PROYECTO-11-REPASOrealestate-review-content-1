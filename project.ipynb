{
 "cells": [
  {
   "attachments": {},
   "cell_type": "markdown",
   "id": "innocent-university",
   "metadata": {},
   "source": [
    "# Real Estate Clean up\n",
    "\n",
    "This is a real dataset and it was downloaded using web scraping techniques. The data contains registers from fotocasa which is one of the most popular websites of real estate in Spain. Please, do not do this (web scraping) unless it is for academic purposes.\n",
    "\n",
    "The dataset was downloaded a few years ago by Henry Navarro and In no case were economic returns obtained from it.\n",
    "\n",
    "It contains thousands of data from real houses published on the web www.fotocasa.com. Your goal is to extract as much information as possible with the knowledge you have so far about data science, for example what is the most expensive house in the entire dataset?\n",
    "\n",
    "Let's start with precisely that question... Good luck!"
   ]
  },
  {
   "attachments": {},
   "cell_type": "markdown",
   "id": "multiple-glass",
   "metadata": {},
   "source": [
    "#### 0. Read the dataset assets/real_estate.csv and try to visualize the table (★☆☆)"
   ]
  },
  {
   "cell_type": "code",
   "execution_count": 1,
   "id": "frank-heath",
   "metadata": {},
   "outputs": [
    {
     "data": {
      "text/html": [
       "<div>\n",
       "<style scoped>\n",
       "    .dataframe tbody tr th:only-of-type {\n",
       "        vertical-align: middle;\n",
       "    }\n",
       "\n",
       "    .dataframe tbody tr th {\n",
       "        vertical-align: top;\n",
       "    }\n",
       "\n",
       "    .dataframe thead th {\n",
       "        text-align: right;\n",
       "    }\n",
       "</style>\n",
       "<table border=\"1\" class=\"dataframe\">\n",
       "  <thead>\n",
       "    <tr style=\"text-align: right;\">\n",
       "      <th></th>\n",
       "      <th>isNew</th>\n",
       "      <th>rooms</th>\n",
       "      <th>bathrooms</th>\n",
       "      <th>surface</th>\n",
       "      <th>price</th>\n",
       "      <th>date</th>\n",
       "      <th>level5</th>\n",
       "    </tr>\n",
       "  </thead>\n",
       "  <tbody>\n",
       "    <tr>\n",
       "      <th>0</th>\n",
       "      <td>False</td>\n",
       "      <td>3.0</td>\n",
       "      <td>2.0</td>\n",
       "      <td>103.0</td>\n",
       "      <td>195000</td>\n",
       "      <td>2019-12-28T18:27:15.9975027Z</td>\n",
       "      <td>Arganda del Rey</td>\n",
       "    </tr>\n",
       "    <tr>\n",
       "      <th>1</th>\n",
       "      <td>False</td>\n",
       "      <td>3.0</td>\n",
       "      <td>1.0</td>\n",
       "      <td>NaN</td>\n",
       "      <td>89000</td>\n",
       "      <td>2019-12-28T18:27:15.9975027Z</td>\n",
       "      <td>Fuenlabrada</td>\n",
       "    </tr>\n",
       "    <tr>\n",
       "      <th>2</th>\n",
       "      <td>False</td>\n",
       "      <td>2.0</td>\n",
       "      <td>2.0</td>\n",
       "      <td>99.0</td>\n",
       "      <td>390000</td>\n",
       "      <td>2019-12-28T18:27:15.9975027Z</td>\n",
       "      <td>Boadilla del Monte</td>\n",
       "    </tr>\n",
       "    <tr>\n",
       "      <th>3</th>\n",
       "      <td>False</td>\n",
       "      <td>3.0</td>\n",
       "      <td>1.0</td>\n",
       "      <td>86.0</td>\n",
       "      <td>89000</td>\n",
       "      <td>2019-12-28T18:27:15.9975027Z</td>\n",
       "      <td>Fuenlabrada</td>\n",
       "    </tr>\n",
       "    <tr>\n",
       "      <th>4</th>\n",
       "      <td>False</td>\n",
       "      <td>2.0</td>\n",
       "      <td>2.0</td>\n",
       "      <td>106.0</td>\n",
       "      <td>172000</td>\n",
       "      <td>2019-12-28T18:27:15.9975027Z</td>\n",
       "      <td>Arganda del Rey</td>\n",
       "    </tr>\n",
       "    <tr>\n",
       "      <th>5</th>\n",
       "      <td>False</td>\n",
       "      <td>2.0</td>\n",
       "      <td>1.0</td>\n",
       "      <td>70.0</td>\n",
       "      <td>315000</td>\n",
       "      <td>2019-12-28T18:27:15.9680547Z</td>\n",
       "      <td>Las Rozas de Madrid</td>\n",
       "    </tr>\n",
       "    <tr>\n",
       "      <th>6</th>\n",
       "      <td>False</td>\n",
       "      <td>3.0</td>\n",
       "      <td>2.0</td>\n",
       "      <td>145.0</td>\n",
       "      <td>430000</td>\n",
       "      <td>2019-12-28T18:27:15.9680547Z</td>\n",
       "      <td>Las Rozas de Madrid</td>\n",
       "    </tr>\n",
       "    <tr>\n",
       "      <th>7</th>\n",
       "      <td>False</td>\n",
       "      <td>2.0</td>\n",
       "      <td>1.0</td>\n",
       "      <td>95.0</td>\n",
       "      <td>275000</td>\n",
       "      <td>2019-12-28T18:27:15.9680547Z</td>\n",
       "      <td>Las Rozas de Madrid</td>\n",
       "    </tr>\n",
       "    <tr>\n",
       "      <th>8</th>\n",
       "      <td>False</td>\n",
       "      <td>4.0</td>\n",
       "      <td>3.0</td>\n",
       "      <td>277.0</td>\n",
       "      <td>445000</td>\n",
       "      <td>2019-12-28T18:27:15.9680547Z</td>\n",
       "      <td>Las Rozas de Madrid</td>\n",
       "    </tr>\n",
       "    <tr>\n",
       "      <th>9</th>\n",
       "      <td>False</td>\n",
       "      <td>4.0</td>\n",
       "      <td>2.0</td>\n",
       "      <td>129.0</td>\n",
       "      <td>350000</td>\n",
       "      <td>2019-12-28T13:30:00Z</td>\n",
       "      <td>Madrid Capital</td>\n",
       "    </tr>\n",
       "  </tbody>\n",
       "</table>\n",
       "</div>"
      ],
      "text/plain": [
       "   isNew  rooms  bathrooms  surface   price                          date  \\\n",
       "0  False    3.0        2.0    103.0  195000  2019-12-28T18:27:15.9975027Z   \n",
       "1  False    3.0        1.0      NaN   89000  2019-12-28T18:27:15.9975027Z   \n",
       "2  False    2.0        2.0     99.0  390000  2019-12-28T18:27:15.9975027Z   \n",
       "3  False    3.0        1.0     86.0   89000  2019-12-28T18:27:15.9975027Z   \n",
       "4  False    2.0        2.0    106.0  172000  2019-12-28T18:27:15.9975027Z   \n",
       "5  False    2.0        1.0     70.0  315000  2019-12-28T18:27:15.9680547Z   \n",
       "6  False    3.0        2.0    145.0  430000  2019-12-28T18:27:15.9680547Z   \n",
       "7  False    2.0        1.0     95.0  275000  2019-12-28T18:27:15.9680547Z   \n",
       "8  False    4.0        3.0    277.0  445000  2019-12-28T18:27:15.9680547Z   \n",
       "9  False    4.0        2.0    129.0  350000          2019-12-28T13:30:00Z   \n",
       "\n",
       "                level5  \n",
       "0      Arganda del Rey  \n",
       "1          Fuenlabrada  \n",
       "2   Boadilla del Monte  \n",
       "3          Fuenlabrada  \n",
       "4      Arganda del Rey  \n",
       "5  Las Rozas de Madrid  \n",
       "6  Las Rozas de Madrid  \n",
       "7  Las Rozas de Madrid  \n",
       "8  Las Rozas de Madrid  \n",
       "9       Madrid Capital  "
      ]
     },
     "execution_count": 1,
     "metadata": {},
     "output_type": "execute_result"
    }
   ],
   "source": [
    "import pandas as pd\n",
    "\n",
    "# this CSV file contains semicolons instead of comas as separator\n",
    "ds = pd.read_csv('assets/real_estate.csv', sep=';')\n",
    "ds = ds[[\"isNew\", \"rooms\", \"bathrooms\", \"surface\", \"price\", \"date\", \"level5\"]]\n",
    "ds.head(10)"
   ]
  },
  {
   "attachments": {},
   "cell_type": "markdown",
   "id": "f15387af",
   "metadata": {},
   "source": [
    "#### 1. Change the datatype of the columns of the DataFrame as the following (★☆☆)\n",
    "\n",
    "| Column | Data type |\n",
    "| -------| --------- |\n",
    "| isNew | Boolean |\n",
    "| rooms | Integer |\n",
    "| bathrooms | Integer |\n",
    "| surface | Float |\n",
    "| price | Integer |\n",
    "| date | String format %Y-%m-%d %H:%M:%S |\n",
    "| level5 | String |\n",
    "\n",
    "Ensure the current datatype of the columns match the desired and, if not, update it."
   ]
  },
  {
   "cell_type": "code",
   "execution_count": 2,
   "id": "8e5d63e0",
   "metadata": {},
   "outputs": [],
   "source": [
    "# TODO"
   ]
  },
  {
   "attachments": {},
   "cell_type": "markdown",
   "id": "9f24236d",
   "metadata": {},
   "source": [
    "#### 2. Create an \"id_house\" column which will be the index for each record of the Dataset (★☆☆)\n",
    "\n",
    "Use an Integer number which refers to a record within the Database."
   ]
  },
  {
   "cell_type": "code",
   "execution_count": 3,
   "id": "09cbc75b",
   "metadata": {},
   "outputs": [],
   "source": [
    "# TODO"
   ]
  },
  {
   "attachments": {},
   "cell_type": "markdown",
   "id": "latin-guest",
   "metadata": {},
   "source": [
    "#### 3. Using SQLAlchemy, create a SQLite Database and insert all the above records into it (★★☆)\n",
    "\n",
    "Initialize both the connection and the Database and then define the datatype. Use the previous created variable (`id_house`) as the primary key of the Table.\n",
    "\n",
    "**Hint**: You can choose between use `sqlalchemy` or `flask_sqlalchemy` Python package as shown previously."
   ]
  },
  {
   "cell_type": "code",
   "execution_count": 4,
   "id": "developing-optimum",
   "metadata": {},
   "outputs": [],
   "source": [
    "# TODO"
   ]
  },
  {
   "attachments": {},
   "cell_type": "markdown",
   "id": "70e849e7",
   "metadata": {},
   "source": [
    "#### 4. Select the houses that are more expensive than the overall average price (★★☆)\n",
    "\n",
    "Implement first the SQL Query and then the filter over the Pandas DataFrame and then check the obtained results are the same.\n",
    "\n",
    "**Hint**: You could calculate the mean of prices of all houses before filtering."
   ]
  },
  {
   "cell_type": "code",
   "execution_count": 5,
   "id": "478b127c",
   "metadata": {},
   "outputs": [],
   "source": [
    "# SQL Query TODO\n",
    "\n",
    "# Pandas DataFrame filter TODO"
   ]
  },
  {
   "attachments": {},
   "cell_type": "markdown",
   "id": "4608d261",
   "metadata": {},
   "source": [
    "#### 5. Is it correct to assume that the mean surface of ​​all houses is not 97.5 meters? Prove it taking a random sample of the Dataset (★★★)\n",
    "\n",
    "Randomly select a sample which represents the 20% of the Dataset and then test and prove the hypothesis. Returns the evidence for rejecting or accepting the hypothesis."
   ]
  },
  {
   "cell_type": "code",
   "execution_count": 6,
   "id": "eb9bac95",
   "metadata": {},
   "outputs": [],
   "source": [
    "# TODO"
   ]
  },
  {
   "attachments": {},
   "cell_type": "markdown",
   "id": "627e733a",
   "metadata": {},
   "source": [
    "#### 6. How are the variables distributed? Plot in one graph several box plots, one for the following column: `rooms`, `bathrooms`, `surface` and `price`. \n",
    "\n",
    "Describe what can be observed about the data in each column: quartiles, median, outliers..."
   ]
  },
  {
   "cell_type": "code",
   "execution_count": 7,
   "id": "c09e09be",
   "metadata": {},
   "outputs": [],
   "source": [
    "# TODO"
   ]
  }
 ],
 "metadata": {
  "kernelspec": {
   "display_name": "Python 3",
   "language": "python",
   "name": "python3"
  },
  "language_info": {
   "codemirror_mode": {
    "name": "ipython",
    "version": 3
   },
   "file_extension": ".py",
   "mimetype": "text/x-python",
   "name": "python",
   "nbconvert_exporter": "python",
   "pygments_lexer": "ipython3",
   "version": "3.11.4"
  }
 },
 "nbformat": 4,
 "nbformat_minor": 5
}
